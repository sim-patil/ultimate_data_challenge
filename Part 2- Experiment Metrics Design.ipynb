{
 "cells": [
  {
   "cell_type": "markdown",
   "metadata": {},
   "source": [
    "# Part 2: Experiment and metrics design\n",
    "\n",
    "The neighboring cities of Gotham and Metropolis have complementary circadian rhythms: on weekdays, Ultimate Gotham is most active at night, and Ultimate Metropolis is most active during the day. On weekends, there is reasonable activity in both cities.\n",
    "\n",
    "However, a toll bridge, with a two way toll, between the two cities causes driver partners to tend to be exclusive to each city. The Ultimate managers of city operations for the two cities have proposed an experiment to encourage driver partners to be available in both cities, by reimbursing all toll costs."
   ]
  },
  {
   "cell_type": "markdown",
   "metadata": {},
   "source": [
    "__1. What would you choose as the key measure of success of this experiment in encouraging driver partners to serve both cities, and why would you choose this metric?__\n",
    "\n",
    "The goal of the experiment is to encourage drive partners to be avaiable to the riders of both the cities. Following measures can be used to determine the success of this experiment.\n",
    "\n",
    "__Increase in number of rides and cross city rides__ : If the goal of Ultimate Inc is to specifically increase the revenue by promoting cross-city rides, then the experiment is said to be successful if there is an increase in number of rides after the experiment.\n",
    "\n",
    "__Increase in number of tolls paid by the driver partners__: Another measure of suceess of the experiment can be the change in the number of tolls paid by the driver partners. If there is an increase in tolls paid by driver partners then, it means there is a positive impact of the experiment and drivers are ready to take the cross city rides.\n",
    "\n",
    "\n",
    "__2. Describe a practical experiment you would design to compare the effectiveness of the proposed change in relation to the key measure of success. Please provide details on:__\n",
    "\n",
    "a. how you will implement the experiment.\n",
    "\n",
    "The experiment will be implemented as a simple A/B test. As part of this activity, two groups __Treatment and Control__ groups will be formed.\n",
    "\n",
    "Reimbursment of the toll will be provided to the drivers from treatment group for a certain period of time and rider's pattern will be compared with the control group for the same period.\n",
    "\n",
    "b. what statistical test(s) you will conduct to verify the significance of the observation.\n",
    "\n",
    "Once the Treatment group and the Control groups are in place and the ride data is available, the next step will be to compare the data using inferential statistics.\n",
    "\n",
    "This step is to find out if there is a difference in the measure (total rides / total cross-city rides / tolls paid by drivers) between the Treatment group and the Control group and if oberved difference between two groups is really significant or if it is just by a random chance.\n",
    "\n",
    "Assuming that there is a large number of samples / observations and the population standard deviation σ of the measure is unknown a two sample t test can be used to find if reimbusring tolls lead to increase in driver partners who provide rides across the cities.\n",
    "\n",
    "c. how you would interpret the results and provide recommendations to the city operations team along with any caveats.\n",
    "\n",
    "When testing for the two groups, one of the following can occur: \n",
    "\n",
    "There is no real difference between these groups, or in other words, there is a reasonable probability that the difference observed is due to chance. This is also known as the Null hypotesis\n",
    "\n",
    "There is a real difference between the two groups. Or, in other words, all of the observed difference in the measures between the two groups cannot be explained by random chance.\n",
    "\n",
    "The major caveat here will be the validity of the data. The experiment will be performed considering there are no other variables affecting the ridership.\n",
    "\n",
    "If there are other variables than available then the strength of the model can go down on unseen data."
   ]
  },
  {
   "cell_type": "code",
   "execution_count": null,
   "metadata": {},
   "outputs": [],
   "source": []
  }
 ],
 "metadata": {
  "kernelspec": {
   "display_name": "Python 3",
   "language": "python",
   "name": "python3"
  },
  "language_info": {
   "codemirror_mode": {
    "name": "ipython",
    "version": 3
   },
   "file_extension": ".py",
   "mimetype": "text/x-python",
   "name": "python",
   "nbconvert_exporter": "python",
   "pygments_lexer": "ipython3",
   "version": "3.6.5"
  }
 },
 "nbformat": 4,
 "nbformat_minor": 2
}
